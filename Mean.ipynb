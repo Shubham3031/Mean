{
 "cells": [
  {
   "cell_type": "code",
   "execution_count": 7,
   "id": "a02d43d2-f4f3-4280-b381-a731b9f2ebea",
   "metadata": {},
   "outputs": [
    {
     "name": "stdout",
     "output_type": "stream",
     "text": [
      "20.0\n"
     ]
    }
   ],
   "source": [
    "# Q.19.Ans.\n",
    "\n",
    "def calculate_mean(n):\n",
    "    total = sum(n)\n",
    "    count = len(n)\n",
    "    \n",
    "    mean = total/count\n",
    "    return mean\n",
    "\n",
    "n= [10, 15, 20, 25, 30]\n",
    "\n",
    "print(calculate_mean(n))\n",
    "\n",
    "    "
   ]
  },
  {
   "cell_type": "code",
   "execution_count": null,
   "id": "2bdc73f0-e4b0-47d6-aaea-98b399bfa993",
   "metadata": {},
   "outputs": [],
   "source": []
  }
 ],
 "metadata": {
  "kernelspec": {
   "display_name": "Python 3 (ipykernel)",
   "language": "python",
   "name": "python3"
  },
  "language_info": {
   "codemirror_mode": {
    "name": "ipython",
    "version": 3
   },
   "file_extension": ".py",
   "mimetype": "text/x-python",
   "name": "python",
   "nbconvert_exporter": "python",
   "pygments_lexer": "ipython3",
   "version": "3.10.6"
  }
 },
 "nbformat": 4,
 "nbformat_minor": 5
}
